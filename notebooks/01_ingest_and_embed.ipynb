{
 "cells": [
  {
   "cell_type": "markdown",
   "id": "b42f6884",
   "metadata": {},
   "source": [
    "# Ingest and Embed Documents for RAG using LangChain + FAISS"
   ]
  },
  {
   "cell_type": "code",
   "execution_count": null,
   "id": "19d2abc2",
   "metadata": {},
   "outputs": [],
   "source": [
    "from langchain.document_loaders import PyPDFLoader\n",
    "from langchain.text_splitter import RecursiveCharacterTextSplitter\n",
    "from langchain.embeddings import HuggingFaceEmbeddings\n",
    "from langchain.vectorstores import FAISS\n",
    "import os"
   ]
  },
  {
   "cell_type": "code",
   "execution_count": null,
   "id": "7ff6d8ee",
   "metadata": {},
   "outputs": [],
   "source": [
    "# Step 1: Load PDF document\n",
    "pdf_path = \"data/sample_doc.pdf\"\n",
    "loader = PyPDFLoader(pdf_path)\n",
    "documents = loader.load()"
   ]
  },
  {
   "cell_type": "code",
   "execution_count": null,
   "id": "ccf73be9",
   "metadata": {},
   "outputs": [],
   "source": [
    "# Step 2: Split text into manageable chunks\n",
    "text_splitter = RecursiveCharacterTextSplitter(\n",
    "    chunk_size=500,\n",
    "    chunk_overlap=50\n",
    ")\n",
    "docs = text_splitter.split_documents(documents)"
   ]
  },
  {
   "cell_type": "code",
   "execution_count": null,
   "id": "fa40ecb5",
   "metadata": {},
   "outputs": [],
   "source": [
    "# Step 3: Create embeddings for chunks\n",
    "embedding = HuggingFaceEmbeddings(model_name=\"sentence-transformers/all-MiniLM-L6-v2\")"
   ]
  },
  {
   "cell_type": "code",
   "execution_count": null,
   "id": "f46ec95f",
   "metadata": {},
   "outputs": [],
   "source": [
    "# Step 4: Store in FAISS vector store\n",
    "db = FAISS.from_documents(docs, embedding)"
   ]
  },
  {
   "cell_type": "code",
   "execution_count": null,
   "id": "c032b14c",
   "metadata": {},
   "outputs": [],
   "source": [
    "# Step 5: Save the FAISS index locally\n",
    "os.makedirs(\"faiss_index\", exist_ok=True)\n",
    "db.save_local(\"faiss_index\")\n",
    "print(\"✅ Ingestion complete: FAISS index saved.\")"
   ]
  }
 ],
 "metadata": {},
 "nbformat": 4,
 "nbformat_minor": 5
}